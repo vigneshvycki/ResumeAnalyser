{
 "cells": [
  {
   "cell_type": "code",
   "execution_count": 3,
   "metadata": {},
   "outputs": [],
   "source": [
    "import os\n",
    "\n",
    "GROQ_API_KEY=os.getenv('GROQ_API_KEY')"
   ]
  },
  {
   "cell_type": "code",
   "execution_count": 6,
   "metadata": {},
   "outputs": [],
   "source": [
    "from langchain_groq import ChatGroq\n",
    "llm=ChatGroq(groq_api_key=GROQ_API_KEY,\n",
    "             model_name=\"Llama3-8b-8192\",temperature=0.6)\n"
   ]
  },
  {
   "cell_type": "code",
   "execution_count": 8,
   "metadata": {},
   "outputs": [
    {
     "data": {
      "text/plain": [
       "'I want to open a restaurant for Italien food. Suggest a fency name for this.'"
      ]
     },
     "execution_count": 8,
     "metadata": {},
     "output_type": "execute_result"
    }
   ],
   "source": [
    "from langchain.prompts import PromptTemplate\n",
    "prompt_name=PromptTemplate(\n",
    "    input_variables=['cuisine'],\n",
    "    template=\"I want to open a restaurant for {cuisine} food. Suggest a fency name for this.\"\n",
    ")\n",
    "prompt_name.format(cuisine='Indian')"
   ]
  },
  {
   "cell_type": "code",
   "execution_count": 12,
   "metadata": {},
   "outputs": [
    {
     "data": {
      "text/plain": [
       "'Congratulations on your decision to open an Indian restaurant! Here are some fancy name suggestions for your consideration:\\n\\n1. **Tandoor Royale**: \"Tandoor\" is a traditional Indian clay oven, and \"Royale\" adds a touch of luxury and sophistication.\\n2. **Maharaja\\'s Kitchen**: \"Maharaja\" is a title for Indian monarchs, implying a regal and majestic dining experience.\\n3. **Spice Route**: This name evokes the rich history of Indian cuisine and its global influences, with a nod to the spice trade.\\n4. **Dhaba Fusion**: \"Dhaba\" is a casual Indian eatery, while \"Fusion\" suggests a blend of traditional and modern flavors.\\n5. **Bazaar Bites**: \"Bazaar\" conveys the vibrant, bustling atmosphere of Indian markets, while \"Bites\" emphasizes the restaurant\\'s focus on small plates and sharing.\\n6. **Tamarind Tree**: Tamarind is a popular Indian fruit, and \"Tree\" suggests a sense of growth and abundance.\\n7. **Saffron & Silk**: \"Saffron\" is a prized Indian spice, while \"Silk\" implies luxury and refinement.\\n8. **Garam Gourmet**: \"Garam\" means \"hot\" or \"spicy\" in Hindi, while \"Gourmet\" highlights the restaurant\\'s focus on high-quality food.\\n9. **Chutney Club**: \"Chutney\" is a popular Indian condiment, and \"Club\" suggests a sense of exclusivity and membership.\\n10. **Rajput\\'s Table**: \"Rajput\" is a title for Indian nobility, implying a sense of grandeur and hospitality.\\n\\nChoose the one that resonates with your vision and style, or feel free to modify these suggestions to create a unique name that reflects your brand. Good luck with your restaurant venture!'"
      ]
     },
     "execution_count": 12,
     "metadata": {},
     "output_type": "execute_result"
    }
   ],
   "source": [
    "from langchain.chains import LLMChain\n",
    "chain=LLMChain(llm=llm,prompt=prompt_name)\n",
    "chain.run('Indian')"
   ]
  },
  {
   "cell_type": "code",
   "execution_count": null,
   "metadata": {},
   "outputs": [],
   "source": []
  }
 ],
 "metadata": {
  "kernelspec": {
   "display_name": "Python 3",
   "language": "python",
   "name": "python3"
  },
  "language_info": {
   "codemirror_mode": {
    "name": "ipython",
    "version": 3
   },
   "file_extension": ".py",
   "mimetype": "text/x-python",
   "name": "python",
   "nbconvert_exporter": "python",
   "pygments_lexer": "ipython3",
   "version": "3.11.5"
  },
  "orig_nbformat": 4
 },
 "nbformat": 4,
 "nbformat_minor": 2
}
